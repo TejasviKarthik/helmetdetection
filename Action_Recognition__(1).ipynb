{
  "nbformat": 4,
  "nbformat_minor": 0,
  "metadata": {
    "colab": {
      "provenance": []
    },
    "language_info": {
      "name": "python"
    },
    "kernelspec": {
      "name": "python3",
      "display_name": "Python 3"
    },
    "accelerator": "GPU"
  },
  "cells": [
    {
      "cell_type": "code",
      "metadata": {
        "id": "tobGUP5lfRol",
        "colab": {
          "base_uri": "https://localhost:8080/"
        },
        "outputId": "0716a399-8fcc-4db7-dcef-67a8ff363a06"
      },
      "source": [
        "!pip3 install --upgrade onnxruntime"
      ],
      "execution_count": null,
      "outputs": [
        {
          "output_type": "stream",
          "text": [
            "Collecting onnxruntime\n",
            "\u001b[?25l  Downloading https://files.pythonhosted.org/packages/f9/76/3d0f8bb2776961c7335693df06eccf8d099e48fa6fb552c7546867192603/onnxruntime-1.8.0-cp37-cp37m-manylinux_2_17_x86_64.manylinux2014_x86_64.whl (4.5MB)\n",
            "\u001b[K     |████████████████████████████████| 4.5MB 29.7MB/s \n",
            "\u001b[?25hRequirement already satisfied, skipping upgrade: protobuf in /usr/local/lib/python3.7/dist-packages (from onnxruntime) (3.12.4)\n",
            "Requirement already satisfied, skipping upgrade: flatbuffers in /usr/local/lib/python3.7/dist-packages (from onnxruntime) (1.12)\n",
            "Requirement already satisfied, skipping upgrade: numpy>=1.16.6 in /usr/local/lib/python3.7/dist-packages (from onnxruntime) (1.19.5)\n",
            "Requirement already satisfied, skipping upgrade: setuptools in /usr/local/lib/python3.7/dist-packages (from protobuf->onnxruntime) (57.0.0)\n",
            "Requirement already satisfied, skipping upgrade: six>=1.9 in /usr/local/lib/python3.7/dist-packages (from protobuf->onnxruntime) (1.15.0)\n",
            "Installing collected packages: onnxruntime\n",
            "Successfully installed onnxruntime-1.8.0\n"
          ],
          "name": "stdout"
        }
      ]
    },
    {
      "cell_type": "code",
      "metadata": {
        "id": "3wUGffv1f-tX",
        "colab": {
          "base_uri": "https://localhost:8080/"
        },
        "outputId": "e256ba13-a362-46f3-a113-ba91c8f37ab9"
      },
      "source": [
        "!pip install mxnet-cu110\n",
        "!pip install gluoncv"
      ],
      "execution_count": null,
      "outputs": [
        {
          "output_type": "stream",
          "text": [
            "Collecting mxnet-cu110\n",
            "\u001b[?25l  Downloading https://files.pythonhosted.org/packages/94/9d/deaccef6bac02e3a868ef8de07e4dc8c1c215b810b4bd853bec6964190ba/mxnet_cu110-1.8.0.post0-py2.py3-none-manylinux2014_x86_64.whl (323.5MB)\n",
            "\u001b[K     |████████████████████████████████| 323.5MB 51kB/s \n",
            "\u001b[?25hRequirement already satisfied: requests<3,>=2.20.0 in /usr/local/lib/python3.7/dist-packages (from mxnet-cu110) (2.23.0)\n",
            "Collecting graphviz<0.9.0,>=0.8.1\n",
            "  Downloading https://files.pythonhosted.org/packages/53/39/4ab213673844e0c004bed8a0781a0721a3f6bb23eb8854ee75c236428892/graphviz-0.8.4-py2.py3-none-any.whl\n",
            "Requirement already satisfied: numpy<2.0.0,>1.16.0 in /usr/local/lib/python3.7/dist-packages (from mxnet-cu110) (1.19.5)\n",
            "Requirement already satisfied: certifi>=2017.4.17 in /usr/local/lib/python3.7/dist-packages (from requests<3,>=2.20.0->mxnet-cu110) (2021.5.30)\n",
            "Requirement already satisfied: chardet<4,>=3.0.2 in /usr/local/lib/python3.7/dist-packages (from requests<3,>=2.20.0->mxnet-cu110) (3.0.4)\n",
            "Requirement already satisfied: idna<3,>=2.5 in /usr/local/lib/python3.7/dist-packages (from requests<3,>=2.20.0->mxnet-cu110) (2.10)\n",
            "Requirement already satisfied: urllib3!=1.25.0,!=1.25.1,<1.26,>=1.21.1 in /usr/local/lib/python3.7/dist-packages (from requests<3,>=2.20.0->mxnet-cu110) (1.24.3)\n",
            "Installing collected packages: graphviz, mxnet-cu110\n",
            "  Found existing installation: graphviz 0.10.1\n",
            "    Uninstalling graphviz-0.10.1:\n",
            "      Successfully uninstalled graphviz-0.10.1\n",
            "Successfully installed graphviz-0.8.4 mxnet-cu110-1.8.0.post0\n",
            "Collecting gluoncv\n",
            "\u001b[?25l  Downloading https://files.pythonhosted.org/packages/a7/4c/cf840e62f66be8e258e5c3a8197d858daeb8b34af7b5ed4ac62b40bb2770/gluoncv-0.10.3-py3-none-any.whl (1.3MB)\n",
            "\u001b[K     |████████████████████████████████| 1.3MB 30.2MB/s \n",
            "\u001b[?25hRequirement already satisfied: pyyaml in /usr/local/lib/python3.7/dist-packages (from gluoncv) (3.13)\n",
            "Requirement already satisfied: matplotlib in /usr/local/lib/python3.7/dist-packages (from gluoncv) (3.2.2)\n",
            "Requirement already satisfied: opencv-python in /usr/local/lib/python3.7/dist-packages (from gluoncv) (4.1.2.30)\n",
            "Requirement already satisfied: pandas in /usr/local/lib/python3.7/dist-packages (from gluoncv) (1.1.5)\n",
            "Requirement already satisfied: Pillow in /usr/local/lib/python3.7/dist-packages (from gluoncv) (7.1.2)\n",
            "Collecting yacs\n",
            "  Downloading https://files.pythonhosted.org/packages/38/4f/fe9a4d472aa867878ce3bb7efb16654c5d63672b86dc0e6e953a67018433/yacs-0.1.8-py3-none-any.whl\n",
            "Requirement already satisfied: tqdm in /usr/local/lib/python3.7/dist-packages (from gluoncv) (4.41.1)\n",
            "Collecting autocfg\n",
            "  Downloading https://files.pythonhosted.org/packages/95/f9/74e0a42cbc6d871c92288806e7812c7d2628c2a06557930dbab0a17438d2/autocfg-0.0.8-py3-none-any.whl\n",
            "Requirement already satisfied: scipy in /usr/local/lib/python3.7/dist-packages (from gluoncv) (1.4.1)\n",
            "Requirement already satisfied: numpy in /usr/local/lib/python3.7/dist-packages (from gluoncv) (1.19.5)\n",
            "Collecting portalocker\n",
            "  Downloading https://files.pythonhosted.org/packages/68/33/cb524f4de298509927b90aa5ee34767b9a2b93e663cf354b2a3efa2b4acd/portalocker-2.3.0-py2.py3-none-any.whl\n",
            "Requirement already satisfied: requests in /usr/local/lib/python3.7/dist-packages (from gluoncv) (2.23.0)\n",
            "Requirement already satisfied: cycler>=0.10 in /usr/local/lib/python3.7/dist-packages (from matplotlib->gluoncv) (0.10.0)\n",
            "Requirement already satisfied: kiwisolver>=1.0.1 in /usr/local/lib/python3.7/dist-packages (from matplotlib->gluoncv) (1.3.1)\n",
            "Requirement already satisfied: pyparsing!=2.0.4,!=2.1.2,!=2.1.6,>=2.0.1 in /usr/local/lib/python3.7/dist-packages (from matplotlib->gluoncv) (2.4.7)\n",
            "Requirement already satisfied: python-dateutil>=2.1 in /usr/local/lib/python3.7/dist-packages (from matplotlib->gluoncv) (2.8.1)\n",
            "Requirement already satisfied: pytz>=2017.2 in /usr/local/lib/python3.7/dist-packages (from pandas->gluoncv) (2018.9)\n",
            "Requirement already satisfied: certifi>=2017.4.17 in /usr/local/lib/python3.7/dist-packages (from requests->gluoncv) (2021.5.30)\n",
            "Requirement already satisfied: chardet<4,>=3.0.2 in /usr/local/lib/python3.7/dist-packages (from requests->gluoncv) (3.0.4)\n",
            "Requirement already satisfied: urllib3!=1.25.0,!=1.25.1,<1.26,>=1.21.1 in /usr/local/lib/python3.7/dist-packages (from requests->gluoncv) (1.24.3)\n",
            "Requirement already satisfied: idna<3,>=2.5 in /usr/local/lib/python3.7/dist-packages (from requests->gluoncv) (2.10)\n",
            "Requirement already satisfied: six in /usr/local/lib/python3.7/dist-packages (from cycler>=0.10->matplotlib->gluoncv) (1.15.0)\n",
            "Installing collected packages: yacs, autocfg, portalocker, gluoncv\n",
            "Successfully installed autocfg-0.0.8 gluoncv-0.10.3 portalocker-2.3.0 yacs-0.1.8\n"
          ],
          "name": "stdout"
        }
      ]
    },
    {
      "cell_type": "code",
      "metadata": {
        "id": "HX3TTgJ9fRom",
        "colab": {
          "base_uri": "https://localhost:8080/"
        },
        "outputId": "924e36b6-9593-4dbf-daaa-d877327b2e48"
      },
      "source": [
        "\n",
        "import numpy as np\n",
        "import onnxruntime as rt\n",
        "import urllib.request\n",
        "import os.path\n",
        "from PIL import Image\n",
        "import matplotlib.pyplot as plt\n",
        "import numpy as np\n",
        "import mxnet as mx\n",
        "from mxnet import gluon, nd, image\n",
        "from mxnet.gluon.data.vision import transforms\n",
        "from gluoncv.data.transforms import video\n",
        "from gluoncv import utils\n",
        "from gluoncv.model_zoo import get_model\n",
        "    "
      ],
      "execution_count": null,
      "outputs": [
        {
          "output_type": "stream",
          "text": [
            "/usr/local/lib/python3.7/dist-packages/gluoncv/__init__.py:40: UserWarning: Both `mxnet==1.8.0` and `torch==1.8.1+cu101` are installed. You might encounter increased GPU memory footprint if both framework are used at the same time.\n",
            "  warnings.warn(f'Both `mxnet=={mx.__version__}` and `torch=={torch.__version__}` are installed. '\n"
          ],
          "name": "stderr"
        }
      ]
    },
    {
      "cell_type": "code",
      "metadata": {
        "id": "_EhC_tfefRon"
      },
      "source": [
        "\n",
        "def fetch_model():\n",
        "    if not os.path.isfile(\"vgg16_ucf101.onnx\"):\n",
        "        urllib.request.urlretrieve(\"https://apache-mxnet.s3-us-west-2.amazonaws.com/onnx/models/gluoncv-vgg16_ucf101-b8e05551.onnx\", filename=\"vgg16_ucf101.onnx\")\n",
        "    return \"vgg16_ucf101.onnx\"\n",
        "    \n",
        "def prepare_img(img_path, input_shape):\n",
        "    # input_shape: BHWC\n",
        "    height, width = input_shape[1], input_shape[2]\n",
        "    img = Image.open(img_path).convert('RGB')\n",
        "    img = img.resize((width, height))\n",
        "    img = np.asarray(img)\n",
        "    img = np.expand_dims(img, axis=0).astype('float32')\n",
        "\n",
        "    return img\n",
        "    \n",
        "def prepare_label():\n",
        "    from gluoncv.data import UCF101Attr\n",
        "    return UCF101Attr().classes\n",
        "    "
      ],
      "execution_count": null,
      "outputs": []
    },
    {
      "cell_type": "markdown",
      "metadata": {
        "id": "_bd4I8cKfRon"
      },
      "source": [
        "**Make sure to replace the image you want to use**"
      ]
    },
    {
      "cell_type": "code",
      "metadata": {
        "id": "RpBh2e-3fRon",
        "colab": {
          "base_uri": "https://localhost:8080/"
        },
        "outputId": "9e0a21ac-2370-44dc-eed5-e21d1ee6ebf9"
      },
      "source": [
        "\n",
        "model = fetch_model()\n",
        "url = 'https://github.com/bryanyzhu/tiny-ucf101/raw/master/ThrowDiscus.png'\n",
        "im_fname = utils.download(url)\n"
      ],
      "execution_count": null,
      "outputs": [
        {
          "output_type": "stream",
          "text": [
            "Downloading ThrowDiscus.png from https://github.com/bryanyzhu/tiny-ucf101/raw/master/ThrowDiscus.png...\n"
          ],
          "name": "stdout"
        },
        {
          "output_type": "stream",
          "text": [
            "148KB [00:00, 18666.01KB/s]            \n"
          ],
          "name": "stderr"
        }
      ]
    },
    {
      "cell_type": "code",
      "metadata": {
        "id": "7R-9wPF-f4D0"
      },
      "source": [
        "\n",
        "img = image.imread(im_fname)\n",
        "#img_path = \"/content/ThrowDiscus.png\"\n",
        "img_path='Image1.png'\n",
        "img = prepare_img(img_path, (1, 224, 224, 3))\n",
        "label = prepare_label()\n",
        "    "
      ],
      "execution_count": null,
      "outputs": []
    },
    {
      "cell_type": "code",
      "metadata": {
        "id": "2J-L88FtfRoo"
      },
      "source": [
        "\n",
        "# Create a onnx inference session and get the input name\n",
        "onnx_session = rt.InferenceSession(model, None)\n",
        "input_name = onnx_session.get_inputs()[0].name    \n",
        "    "
      ],
      "execution_count": null,
      "outputs": []
    },
    {
      "cell_type": "code",
      "metadata": {
        "id": "pAacIcKdfRoo"
      },
      "source": [
        "\n",
        "pred = onnx_session.run([], {input_name: img})[0]\n",
        "    "
      ],
      "execution_count": null,
      "outputs": []
    },
    {
      "cell_type": "markdown",
      "metadata": {
        "id": "Y_poNYS6fRop"
      },
      "source": [
        "\n",
        "(Optional) We use mxnet to process the result.\n",
        "\n",
        "Feel free to process the result your own way\n"
      ]
    },
    {
      "cell_type": "code",
      "metadata": {
        "id": "Re62P9URfRop",
        "colab": {
          "base_uri": "https://localhost:8080/"
        },
        "outputId": "539cddb5-b60c-42ee-c9ec-b50ccfc85a65"
      },
      "source": [
        "\n",
        "import mxnet as mx\n",
        "\n",
        "pred = mx.nd.array(pred)\n",
        "topK = 5\n",
        "ind = mx.nd.topk(pred, k=topK)[0].astype('int')\n",
        "print('The input is classified to be')\n",
        "for i in range(topK):\n",
        "    print('\t[%s], with probability %.3f.'%\n",
        "          (label[ind[i].asscalar()], mx.nd.softmax(pred)[0][ind[i]].asscalar()))\n",
        "    "
      ],
      "execution_count": null,
      "outputs": [
        {
          "output_type": "stream",
          "text": [
            "The input is classified to be\n",
            "\t[BandMarching], with probability 0.919.\n",
            "\t[CricketBowling], with probability 0.058.\n",
            "\t[CricketShot], with probability 0.008.\n",
            "\t[Shotput], with probability 0.005.\n",
            "\t[HandstandWalking], with probability 0.005.\n"
          ],
          "name": "stdout"
        }
      ]
    },
    {
      "cell_type": "code",
      "metadata": {
        "id": "DGRRAp45fcg8",
        "colab": {
          "base_uri": "https://localhost:8080/"
        },
        "outputId": "aed9b216-9d73-4c1d-b698-8910c62488d6"
      },
      "source": [
        "pip install decord"
      ],
      "execution_count": null,
      "outputs": [
        {
          "output_type": "stream",
          "text": [
            "Collecting decord\n",
            "\u001b[?25l  Downloading https://files.pythonhosted.org/packages/11/79/936af42edf90a7bd4e41a6cac89c913d4b47fa48a26b042d5129a9242ee3/decord-0.6.0-py3-none-manylinux2010_x86_64.whl (13.6MB)\n",
            "\u001b[K     |████████████████████████████████| 13.6MB 194kB/s \n",
            "\u001b[?25hRequirement already satisfied: numpy>=1.14.0 in /usr/local/lib/python3.7/dist-packages (from decord) (1.19.5)\n",
            "Installing collected packages: decord\n",
            "Successfully installed decord-0.6.0\n"
          ],
          "name": "stdout"
        }
      ]
    },
    {
      "cell_type": "code",
      "metadata": {
        "id": "MkCNZzDbgjyO"
      },
      "source": [
        "from gluoncv import utils\n",
        "#url = 'https://raw.githubusercontent.com/overtunned/lane_detection/main/Dataset/Produce.mp4'\n",
        "\n",
        "url= 'https://raw.githubusercontent.com/sagarpy/Data-set/main/v.mp4'\n",
        "video_fname = utils.download(url)\n",
        "\n",
        "from decord import VideoReader\n",
        "vr = VideoReader(video_fname)"
      ],
      "execution_count": null,
      "outputs": []
    },
    {
      "cell_type": "code",
      "metadata": {
        "id": "MpRDD5t-sjb6"
      },
      "source": [
        "import matplotlib.pyplot as plt\n",
        "import numpy as np\n",
        "import mxnet as mx\n",
        "from mxnet import gluon, nd, image\n",
        "from mxnet.gluon.data.vision import transforms\n",
        "from gluoncv.data.transforms import video\n",
        "from gluoncv import utils\n",
        "from gluoncv.model_zoo import get_model"
      ],
      "execution_count": null,
      "outputs": []
    },
    {
      "cell_type": "code",
      "metadata": {
        "id": "t3NqMc2SsqTL",
        "colab": {
          "base_uri": "https://localhost:8080/"
        },
        "outputId": "16ce981b-f2b7-42cf-bbe4-f6b591c8723e"
      },
      "source": [
        "from gluoncv.utils.filesystem import try_import_decord\n",
        "decord = try_import_decord()\n",
        "\n",
        "#url = 'https://github.com/overtunned/lane_detection/blob/main/Dataset/test_video_3.mp4?raw=true'\n",
        "#url ='https://raw.githubusercontent.com/sagarpy/Data-set/main/v.mp4'\n",
        "#url ='https://raw.githubusercontent.com/sagarpy/Data-set/main/Riding_Bike1.mp4'\n",
        "url= 'https://raw.githubusercontent.com/sagarpy/Data-set/main/Riding Bike2.mp4'\n",
        "#url= 'https://raw.githubusercontent.com/sagarpy/Data-set/main/Riding Bike6.mp4'\n",
        "#url= 'https://raw.githubusercontent.com/sagarpy/Data-set/main/Removing Helmet1.mp4'\n",
        "#url='https://raw.githubusercontent.com/devipreetha/DatascienceCaseStudy/main/img16.png'\n",
        "\n",
        "video_fname = utils.download(url)\n",
        "vr = decord.VideoReader(video_fname)\n",
        "fast_frame_id_list = range(0, 64, 2)\n",
        "slow_frame_id_list = range(0, 64, 16)\n",
        "frame_id_list = list(fast_frame_id_list) + list(slow_frame_id_list)\n",
        "video_data = vr.get_batch(frame_id_list).asnumpy()\n",
        "clip_input = [video_data[vid, :, :, :] for vid, _ in enumerate(frame_id_list)]"
      ],
      "execution_count": null,
      "outputs": [
        {
          "output_type": "stream",
          "text": [
            "\r  0%|          | 0/8246 [00:00<?, ?KB/s]"
          ],
          "name": "stderr"
        },
        {
          "output_type": "stream",
          "text": [
            "Downloading Riding Bike2.mp4 from https://raw.githubusercontent.com/sagarpy/Data-set/main/Riding Bike2.mp4...\n"
          ],
          "name": "stdout"
        },
        {
          "output_type": "stream",
          "text": [
            "8247KB [00:00, 45291.61KB/s]                          \n"
          ],
          "name": "stderr"
        }
      ]
    },
    {
      "cell_type": "code",
      "metadata": {
        "id": "XnK3ag76ssbp",
        "colab": {
          "base_uri": "https://localhost:8080/"
        },
        "outputId": "04a32bfb-1fad-4e7f-819d-b1bc5c651842"
      },
      "source": [
        "transform_fn = video.VideoGroupValTransform(size=224, mean=[0.485, 0.456, 0.406], std=[0.229, 0.224, 0.225])\n",
        "clip_input = transform_fn(clip_input)\n",
        "clip_input = np.stack(clip_input, axis=0)\n",
        "clip_input = clip_input.reshape((-1,) + (36, 3, 224, 224))\n",
        "clip_input = np.transpose(clip_input, (0, 2, 1, 3, 4))\n",
        "print('Video data is downloaded and preprocessed.')"
      ],
      "execution_count": null,
      "outputs": [
        {
          "output_type": "stream",
          "text": [
            "Video data is downloaded and preprocessed.\n"
          ],
          "name": "stdout"
        }
      ]
    },
    {
      "cell_type": "code",
      "metadata": {
        "id": "Or2nd3cLsxMN",
        "colab": {
          "base_uri": "https://localhost:8080/"
        },
        "outputId": "ac0baba7-47c2-47e2-9793-50bade4be480"
      },
      "source": [
        "model_name = 'slowfast_4x16_resnet50_kinetics400'\n",
        "net = get_model(model_name, nclass=400, pretrained=True)\n",
        "print('%s model is successfully loaded.' % model_name)"
      ],
      "execution_count": null,
      "outputs": [
        {
          "output_type": "stream",
          "text": [
            "slowfast_4x16_resnet50_kinetics400 model is successfully loaded.\n"
          ],
          "name": "stdout"
        }
      ]
    },
    {
      "cell_type": "code",
      "metadata": {
        "id": "8v7_X3RAtCI1",
        "colab": {
          "base_uri": "https://localhost:8080/"
        },
        "outputId": "d51c55e8-a811-4067-be5c-e868aef6f9b7"
      },
      "source": [
        "pred = net(nd.array(clip_input))\n",
        "\n",
        "classes = net.classes\n",
        "topK = 5\n",
        "ind = nd.topk(pred, k=topK)[0].astype('int')\n",
        "print('The input video clip is classified to be')\n",
        "for i in range(topK):\n",
        "    print('\\t[%s], with probability %.3f.'%\n",
        "          (classes[ind[i].asscalar()], nd.softmax(pred)[0][ind[i]].asscalar()))"
      ],
      "execution_count": null,
      "outputs": [
        {
          "output_type": "stream",
          "text": [
            "The input video clip is classified to be\n",
            "\t[extinguishing_fire], with probability 0.963.\n",
            "\t[garbage_collecting], with probability 0.015.\n",
            "\t[unloading_truck], with probability 0.009.\n",
            "\t[reading_newspaper], with probability 0.004.\n",
            "\t[cleaning_windows], with probability 0.002.\n"
          ],
          "name": "stdout"
        }
      ]
    },
    {
      "cell_type": "code",
      "metadata": {
        "id": "jmVgZrtaqMBv"
      },
      "source": [],
      "execution_count": null,
      "outputs": []
    },
    {
      "cell_type": "code",
      "metadata": {
        "id": "yWOe4CWy0KbA"
      },
      "source": [],
      "execution_count": null,
      "outputs": []
    }
  ]
}